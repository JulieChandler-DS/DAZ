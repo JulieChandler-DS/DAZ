{
  "nbformat": 4,
  "nbformat_minor": 0,
  "metadata": {
    "colab": {
      "provenance": [],
      "collapsed_sections": [],
      "authorship_tag": "ABX9TyNRuwKrg118MKUIMTbkfu0f",
      "include_colab_link": true
    },
    "kernelspec": {
      "name": "python3",
      "display_name": "Python 3"
    },
    "language_info": {
      "name": "python"
    }
  },
  "cells": [
    {
      "cell_type": "markdown",
      "metadata": {
        "id": "view-in-github",
        "colab_type": "text"
      },
      "source": [
        "<a href=\"https://colab.research.google.com/github/JulieChandler-DS/DAZ/blob/main/DAZ.ipynb\" target=\"_parent\"><img src=\"https://colab.research.google.com/assets/colab-badge.svg\" alt=\"Open In Colab\"/></a>"
      ]
    },
    {
      "cell_type": "code",
      "execution_count": 1,
      "metadata": {
        "id": "dNQRMf31-NdT"
      },
      "outputs": [],
      "source": [
        "#import usual libraries\n",
        "import pandas as pd\n",
        "import numpy as np\n",
        "import matplotlib.pyplot as plt\n",
        "import scipy.stats as stats\n",
        "import statsmodels.api as sm\n",
        "import sklearn as sks\n",
        "import seaborn as sns"
      ]
    },
    {
      "cell_type": "code",
      "source": [
        "df = pd.read_csv('https://raw.githubusercontent.com/JulieChandler-DS/DAZ/main/Court%20Systems%20Data%20Collection%20-%20Data.csv')"
      ],
      "metadata": {
        "id": "f2Cix_JSNx8z"
      },
      "execution_count": 2,
      "outputs": []
    }
  ]
}